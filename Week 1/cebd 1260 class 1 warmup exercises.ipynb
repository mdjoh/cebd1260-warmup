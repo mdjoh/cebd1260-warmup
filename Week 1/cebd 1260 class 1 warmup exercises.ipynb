{
 "cells": [
  {
   "cell_type": "markdown",
   "metadata": {},
   "source": [
    "# Python Warm Up Exercises\n",
    "List of 8 exercises"
   ]
  },
  {
   "cell_type": "markdown",
   "metadata": {},
   "source": [
    "### 1. create a list (list_a) with numbers from 1 to 10"
   ]
  },
  {
   "cell_type": "code",
   "execution_count": 10,
   "metadata": {},
   "outputs": [
    {
     "name": "stdout",
     "output_type": "stream",
     "text": [
      "[1, 2, 3, 4, 5, 6, 7, 8, 9, 10]\n"
     ]
    }
   ],
   "source": [
    "list_a = list(range(1,11))\n",
    "print(list_a)"
   ]
  },
  {
   "cell_type": "code",
   "execution_count": 11,
   "metadata": {},
   "outputs": [
    {
     "data": {
      "text/plain": [
       "3.0"
      ]
     },
     "execution_count": 11,
     "metadata": {},
     "output_type": "execute_result"
    }
   ],
   "source": [
    "# import numpy and calculate the mean of first 5 elements in list_a\n",
    "\n",
    "import numpy as np\n",
    "np.mean(list_a[0:5])"
   ]
  },
  {
   "cell_type": "code",
   "execution_count": 20,
   "metadata": {},
   "outputs": [
    {
     "name": "stdout",
     "output_type": "stream",
     "text": [
      "[9, 3, 7, 7, 9, 4, 7, 3, 8, 2]\n"
     ]
    }
   ],
   "source": [
    "# create list_b with 10 random numbers in range from 1 to 10\n",
    "\n",
    "list_b = list(np.random.randint(1, 11, size=10))\n",
    "print(list_b)"
   ]
  },
  {
   "cell_type": "code",
   "execution_count": 24,
   "metadata": {},
   "outputs": [
    {
     "data": {
      "text/plain": [
       "6"
      ]
     },
     "execution_count": 24,
     "metadata": {},
     "output_type": "execute_result"
    }
   ],
   "source": [
    "# identify how many common elements are in the intersection between list_a and list_b\n",
    "len(set(list_a) & set(list_b))"
   ]
  },
  {
   "cell_type": "code",
   "execution_count": 32,
   "metadata": {},
   "outputs": [],
   "source": [
    "# create a function that defines if number is odd or even\n",
    "def checkNumber(n):\n",
    "    if n % 2 == 0:\n",
    "        return \"even\"\n",
    "    else:\n",
    "        return \"odd\""
   ]
  },
  {
   "cell_type": "code",
   "execution_count": 33,
   "metadata": {},
   "outputs": [],
   "source": [
    "# create a list that merges list_a and list_b\n",
    "list_c = list_a + list_b"
   ]
  },
  {
   "cell_type": "code",
   "execution_count": 34,
   "metadata": {},
   "outputs": [
    {
     "data": {
      "text/plain": [
       "{'even': [2, 4, 6, 8, 10, 4, 8, 2],\n",
       " 'odd': [1, 3, 5, 7, 9, 9, 3, 7, 7, 9, 7, 3]}"
      ]
     },
     "execution_count": 34,
     "metadata": {},
     "output_type": "execute_result"
    }
   ],
   "source": [
    "# organize the list_c into a dictionary according to whether the number is 'even' or 'odd'\n",
    "dict_number = {}\n",
    "dict_number['even'] = [] \n",
    "dict_number['odd'] = []\n",
    "# 'even' and 'odd' are dictionary keys\n",
    "\n",
    "for v in list_c:\n",
    "    number_type = checkNumber(v)\n",
    "    dict_number[number_type].append(v)\n",
    "    \n",
    "dict_number"
   ]
  },
  {
   "cell_type": "code",
   "execution_count": 39,
   "metadata": {},
   "outputs": [
    {
     "name": "stdout",
     "output_type": "stream",
     "text": [
      "odds: 12\n",
      "evens: 8\n"
     ]
    }
   ],
   "source": [
    "# return how many list_c numbers are even or odd\n",
    "print(\"odds:\", len(dict_number['odd']))\n",
    "print(\"evens:\", len(dict_number['even']))"
   ]
  },
  {
   "cell_type": "code",
   "execution_count": null,
   "metadata": {},
   "outputs": [],
   "source": []
  }
 ],
 "metadata": {
  "kernelspec": {
   "display_name": "Python 3",
   "language": "python",
   "name": "python3"
  },
  "language_info": {
   "codemirror_mode": {
    "name": "ipython",
    "version": 3
   },
   "file_extension": ".py",
   "mimetype": "text/x-python",
   "name": "python",
   "nbconvert_exporter": "python",
   "pygments_lexer": "ipython3",
   "version": "3.6.5"
  }
 },
 "nbformat": 4,
 "nbformat_minor": 2
}
